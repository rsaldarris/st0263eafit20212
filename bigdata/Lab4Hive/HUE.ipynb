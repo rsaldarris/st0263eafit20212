{
 "cells": [
  {
   "cell_type": "code",
   "execution_count": 26,
   "metadata": {},
   "outputs": [
    {
     "name": "stdout",
     "output_type": "stream",
     "text": [
      "Starting Spark application\n"
     ]
    },
    {
     "data": {
      "text/html": [
       "<table>\n",
       "<tr><th>ID</th><th>YARN Application ID</th><th>Kind</th><th>State</th><th>Spark UI</th><th>Driver log</th><th>Current session?</th></tr><tr><td>3</td><td>application_1637945292387_0008</td><td>pyspark</td><td>idle</td><td><a target=\"_blank\" href=\"http://ip-172-31-76-61.ec2.internal:20888/proxy/application_1637945292387_0008/\">Link</a></td><td><a target=\"_blank\" href=\"http://ip-172-31-64-50.ec2.internal:8042/node/containerlogs/container_1637945292387_0008_01_000001/livy\">Link</a></td><td>✔</td></tr></table>"
      ],
      "text/plain": [
       "<IPython.core.display.HTML object>"
      ]
     },
     "metadata": {},
     "output_type": "display_data"
    },
    {
     "data": {
      "application/vnd.jupyter.widget-view+json": {
       "model_id": "",
       "version_major": 2,
       "version_minor": 0
      },
      "text/plain": [
       "FloatProgress(value=0.0, bar_style='info', description='Progress:', layout=Layout(height='25px', width='50%'),…"
      ]
     },
     "metadata": {},
     "output_type": "display_data"
    },
    {
     "name": "stdout",
     "output_type": "stream",
     "text": [
      "SparkSession available as 'spark'.\n"
     ]
    },
    {
     "data": {
      "text/html": [
       "Current session configs: <tt>{'conf': {'spark.pyspark.python': 'python3', 'spark.pyspark.virtualenv.enabled': 'true', 'spark.pyspark.virtualenv.type': 'native', 'spark.pyspark.virtualenv.bin.path': '/usr/bin/virtualenv'}, 'proxyUser': 'jovyan', 'kind': 'pyspark'}</tt><br>"
      ],
      "text/plain": [
       "<IPython.core.display.HTML object>"
      ]
     },
     "metadata": {},
     "output_type": "display_data"
    },
    {
     "data": {
      "text/html": [
       "<table>\n",
       "<tr><th>ID</th><th>YARN Application ID</th><th>Kind</th><th>State</th><th>Spark UI</th><th>Driver log</th><th>Current session?</th></tr><tr><td>3</td><td>application_1637945292387_0008</td><td>pyspark</td><td>idle</td><td><a target=\"_blank\" href=\"http://ip-172-31-76-61.ec2.internal:20888/proxy/application_1637945292387_0008/\">Link</a></td><td><a target=\"_blank\" href=\"http://ip-172-31-64-50.ec2.internal:8042/node/containerlogs/container_1637945292387_0008_01_000001/livy\">Link</a></td><td>✔</td></tr></table>"
      ],
      "text/plain": [
       "<IPython.core.display.HTML object>"
      ]
     },
     "metadata": {},
     "output_type": "display_data"
    }
   ],
   "source": [
    "%%configure -f\n",
    "{\n",
    "    \"conf\": {\n",
    "        \"spark.pyspark.python\": \"python3\",\n",
    "        \"spark.pyspark.virtualenv.enabled\": \"true\",\n",
    "        \"spark.pyspark.virtualenv.type\":\"native\",\n",
    "        \"spark.pyspark.virtualenv.bin.path\":\"/usr/bin/virtualenv\"\n",
    "    }\n",
    "}"
   ]
  },
  {
   "cell_type": "code",
   "execution_count": 27,
   "metadata": {},
   "outputs": [
    {
     "data": {
      "application/vnd.jupyter.widget-view+json": {
       "model_id": "",
       "version_major": 2,
       "version_minor": 0
      },
      "text/plain": [
       "FloatProgress(value=0.0, bar_style='info', description='Progress:', layout=Layout(height='25px', width='50%'),…"
      ]
     },
     "metadata": {},
     "output_type": "display_data"
    }
   ],
   "source": [
    "#import SparkSession\n",
    "from pyspark.sql import SparkSession\n",
    "import pyspark.sql.functions as F\n",
    "from pyspark.sql.functions import col\n",
    "from pyspark.sql.functions import desc\n",
    "import functools"
   ]
  },
  {
   "cell_type": "code",
   "execution_count": 35,
   "metadata": {},
   "outputs": [
    {
     "data": {
      "application/vnd.jupyter.widget-view+json": {
       "model_id": "",
       "version_major": 2,
       "version_minor": 0
      },
      "text/plain": [
       "FloatProgress(value=0.0, bar_style='info', description='Progress:', layout=Layout(height='25px', width='50%'),…"
      ]
     },
     "metadata": {},
     "output_type": "display_data"
    }
   ],
   "source": [
    "df = spark.sql(\"SELECT * FROM `default`.`hue__tmp_covid`\")"
   ]
  },
  {
   "cell_type": "code",
   "execution_count": 36,
   "metadata": {},
   "outputs": [
    {
     "data": {
      "application/vnd.jupyter.widget-view+json": {
       "model_id": "",
       "version_major": 2,
       "version_minor": 0
      },
      "text/plain": [
       "FloatProgress(value=0.0, bar_style='info', description='Progress:', layout=Layout(height='25px', width='50%'),…"
      ]
     },
     "metadata": {},
     "output_type": "display_data"
    },
    {
     "name": "stdout",
     "output_type": "stream",
     "text": [
      "['fechareporteweb', 'iddecaso', 'fechadenotificacion', 'codigodivilopadepartamento', 'nombredepartamento', 'codigodivilopamunicipio', 'nombremunicipio', 'edad', 'unidaddemedidadeedad', 'sexo', 'tipodecontagio', 'ubicaciondecaso', 'estado', 'codigoisodepais', 'nombrepais', 'recuperado', 'fechainiciosintomas', 'fechamuerte', 'fechadiagnostico', 'fecharecuperacion', 'tiporecuperacion', 'pertenenciaetnica', 'nombregrupoetnico']"
     ]
    }
   ],
   "source": [
    "df.columns"
   ]
  },
  {
   "cell_type": "markdown",
   "metadata": {},
   "source": [
    "## Los 10 departamentos con más casos de covid en Colombia ordenados de mayor a menor."
   ]
  },
  {
   "cell_type": "code",
   "execution_count": 37,
   "metadata": {},
   "outputs": [
    {
     "data": {
      "application/vnd.jupyter.widget-view+json": {
       "model_id": "",
       "version_major": 2,
       "version_minor": 0
      },
      "text/plain": [
       "FloatProgress(value=0.0, bar_style='info', description='Progress:', layout=Layout(height='25px', width='50%'),…"
      ]
     },
     "metadata": {},
     "output_type": "display_data"
    }
   ],
   "source": [
    "dfDepart = spark.sql(\"SELECT `nombredepartamento`, COUNT(*)  AS casosCovid FROM `default`.`hue__tmp_covid` GROUP BY `nombredepartamento` ORDER BY casosCovid DESC LIMIT 10\")"
   ]
  },
  {
   "cell_type": "code",
   "execution_count": 38,
   "metadata": {},
   "outputs": [
    {
     "data": {
      "application/vnd.jupyter.widget-view+json": {
       "model_id": "",
       "version_major": 2,
       "version_minor": 0
      },
      "text/plain": [
       "FloatProgress(value=0.0, bar_style='info', description='Progress:', layout=Layout(height='25px', width='50%'),…"
      ]
     },
     "metadata": {},
     "output_type": "display_data"
    },
    {
     "name": "stdout",
     "output_type": "stream",
     "text": [
      "+------------------+----------+\n",
      "|nombredepartamento|casosCovid|\n",
      "+------------------+----------+\n",
      "|            BOGOTA|   1459299|\n",
      "|         ANTIOQUIA|    763684|\n",
      "|             VALLE|    414316|\n",
      "|      CUNDINAMARCA|    265748|\n",
      "|         SANTANDER|    228328|\n",
      "|      BARRANQUILLA|    213785|\n",
      "|         CARTAGENA|    125639|\n",
      "|         ATLANTICO|    122174|\n",
      "|            TOLIMA|    107949|\n",
      "|            BOYACA|    106123|\n",
      "+------------------+----------+"
     ]
    }
   ],
   "source": [
    "dfDepart.show()"
   ]
  },
  {
   "cell_type": "markdown",
   "metadata": {},
   "source": [
    "## Los 10 municipios con más casos de covid en Colombia ordenados de mayor a menor."
   ]
  },
  {
   "cell_type": "code",
   "execution_count": 39,
   "metadata": {},
   "outputs": [
    {
     "data": {
      "application/vnd.jupyter.widget-view+json": {
       "model_id": "",
       "version_major": 2,
       "version_minor": 0
      },
      "text/plain": [
       "FloatProgress(value=0.0, bar_style='info', description='Progress:', layout=Layout(height='25px', width='50%'),…"
      ]
     },
     "metadata": {},
     "output_type": "display_data"
    },
    {
     "name": "stdout",
     "output_type": "stream",
     "text": [
      "+---------------+----------+\n",
      "|nombremunicipio|casosCovid|\n",
      "+---------------+----------+\n",
      "|         BOGOTA|   1459299|\n",
      "|       MEDELLIN|    418808|\n",
      "|           CALI|    285627|\n",
      "|   BARRANQUILLA|    213785|\n",
      "|      CARTAGENA|    125639|\n",
      "|    BUCARAMANGA|    108456|\n",
      "|         IBAGUE|     75221|\n",
      "|    SANTA MARTA|     69868|\n",
      "|      MANIZALES|     69772|\n",
      "|          BELLO|     63209|\n",
      "+---------------+----------+"
     ]
    }
   ],
   "source": [
    "dfCiudad = spark.sql(\"SELECT `nombremunicipio`, COUNT(*)  AS casosCovid FROM `default`.`hue__tmp_covid` GROUP BY `nombremunicipio` ORDER BY casosCovid DESC LIMIT 10\")\n",
    "dfCiudad.show()"
   ]
  },
  {
   "cell_type": "markdown",
   "metadata": {},
   "source": [
    "## Los 10 dias con más casos de covid en Colombia ordenados de mayor a menor."
   ]
  },
  {
   "cell_type": "code",
   "execution_count": 40,
   "metadata": {},
   "outputs": [
    {
     "data": {
      "application/vnd.jupyter.widget-view+json": {
       "model_id": "",
       "version_major": 2,
       "version_minor": 0
      },
      "text/plain": [
       "FloatProgress(value=0.0, bar_style='info', description='Progress:', layout=Layout(height='25px', width='50%'),…"
      ]
     },
     "metadata": {},
     "output_type": "display_data"
    },
    {
     "name": "stdout",
     "output_type": "stream",
     "text": [
      "+-----------------+----------+\n",
      "|  fechareporteweb|casosCovid|\n",
      "+-----------------+----------+\n",
      "|26/6/2021 0:00:00|     33593|\n",
      "|24/6/2021 0:00:00|     32997|\n",
      "|25/6/2021 0:00:00|     32732|\n",
      "|27/6/2021 0:00:00|     32377|\n",
      "| 4/6/2021 0:00:00|     30000|\n",
      "|12/6/2021 0:00:00|     29998|\n",
      "|23/6/2021 0:00:00|     29996|\n",
      "|17/6/2021 0:00:00|     29945|\n",
      "|11/6/2021 0:00:00|     29570|\n",
      "|10/6/2021 0:00:00|     29302|\n",
      "+-----------------+----------+"
     ]
    }
   ],
   "source": [
    "dfDia = spark.sql(\"SELECT `fechareporteweb`, COUNT(*)  AS casosCovid FROM `default`.`hue__tmp_covid` GROUP BY `fechareporteweb` ORDER BY casosCovid DESC\")\n",
    "dfDia.show(10)"
   ]
  },
  {
   "cell_type": "markdown",
   "metadata": {},
   "source": [
    "## Distribución de casos por edades de covid en Colombia."
   ]
  },
  {
   "cell_type": "code",
   "execution_count": 41,
   "metadata": {},
   "outputs": [
    {
     "data": {
      "application/vnd.jupyter.widget-view+json": {
       "model_id": "",
       "version_major": 2,
       "version_minor": 0
      },
      "text/plain": [
       "FloatProgress(value=0.0, bar_style='info', description='Progress:', layout=Layout(height='25px', width='50%'),…"
      ]
     },
     "metadata": {},
     "output_type": "display_data"
    },
    {
     "name": "stdout",
     "output_type": "stream",
     "text": [
      "+----+----------+\n",
      "|edad|casosCovid|\n",
      "+----+----------+\n",
      "|  30|    123330|\n",
      "|  28|    122419|\n",
      "|  29|    122332|\n",
      "|  27|    120705|\n",
      "|  26|    120501|\n",
      "|  31|    120188|\n",
      "|  32|    117371|\n",
      "|  25|    115753|\n",
      "|  33|    112967|\n",
      "|  35|    112277|\n",
      "+----+----------+"
     ]
    }
   ],
   "source": [
    "dfEdad = spark.sql(\"SELECT `edad`, COUNT(*)  AS casosCovid FROM `default`.`hue__tmp_covid` GROUP BY `edad` ORDER BY casosCovid DESC\")\n",
    "dfEdad.show(10)"
   ]
  },
  {
   "cell_type": "markdown",
   "metadata": {},
   "source": [
    "## Distribución de casos por sexo de covid en Colombia"
   ]
  },
  {
   "cell_type": "code",
   "execution_count": 47,
   "metadata": {},
   "outputs": [
    {
     "data": {
      "application/vnd.jupyter.widget-view+json": {
       "model_id": "",
       "version_major": 2,
       "version_minor": 0
      },
      "text/plain": [
       "FloatProgress(value=0.0, bar_style='info', description='Progress:', layout=Layout(height='25px', width='50%'),…"
      ]
     },
     "metadata": {},
     "output_type": "display_data"
    },
    {
     "name": "stdout",
     "output_type": "stream",
     "text": [
      "+----+----------+\n",
      "|sexo|casosCovid|\n",
      "+----+----------+\n",
      "|   F|   2646975|\n",
      "|   M|   2393679|\n",
      "|   m|         6|\n",
      "|   f|         5|\n",
      "|Sexo|         1|\n",
      "+----+----------+"
     ]
    }
   ],
   "source": [
    "dfSexo = spark.sql(\"SELECT `sexo`, COUNT(*)  AS casosCovid FROM `default`.`hue__tmp_covid` GROUP BY `sexo` ORDER BY casosCovid DESC\")\n",
    "dfSexo.show(10)"
   ]
  }
 ],
 "metadata": {
  "kernelspec": {
   "display_name": "PySpark",
   "language": "",
   "name": "pysparkkernel"
  },
  "language_info": {
   "codemirror_mode": {
    "name": "python",
    "version": 3
   },
   "mimetype": "text/x-python",
   "name": "pyspark",
   "pygments_lexer": "python3"
  }
 },
 "nbformat": 4,
 "nbformat_minor": 4
}
